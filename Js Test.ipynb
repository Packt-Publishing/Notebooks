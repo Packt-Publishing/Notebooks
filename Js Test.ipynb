{
 "cells": [
  {
   "cell_type": "code",
   "execution_count": 1,
   "metadata": {
    "collapsed": false
   },
   "outputs": [
    {
     "data": {
      "text/plain": [
       "undefined"
      ]
     },
     "execution_count": 1,
     "metadata": {},
     "output_type": "execute_result"
    }
   ],
   "source": [
    "var msg = \"Hello, World!\""
   ]
  },
  {
   "cell_type": "code",
   "execution_count": 2,
   "metadata": {
    "collapsed": false
   },
   "outputs": [
    {
     "name": "stdout",
     "output_type": "stream",
     "text": [
      "Hello, World!\n"
     ]
    },
    {
     "data": {
      "text/plain": [
       "undefined"
      ]
     },
     "execution_count": 2,
     "metadata": {},
     "output_type": "execute_result"
    }
   ],
   "source": [
    "console.log(msg)"
   ]
  },
  {
   "cell_type": "code",
   "execution_count": 3,
   "metadata": {
    "collapsed": false
   },
   "outputs": [
    {
     "name": "stdout",
     "output_type": "stream",
     "text": [
      "Raw data is  [ 98, 98.6, 98.4, 98.8, 200, 120, 98.5 ]\n",
      "Standard Deviation is  35.07\n",
      "Mean is  116.04\n",
      "Median is  98.6\n",
      "Median Abs Deviation is 0.20000000000000284\n",
      "The outliers of the data set are  [ 4, 5, 6 ]\n",
      "The data set without outliers is  [ 98, 98.6, 98.4, 98.8 ]\n"
     ]
    },
    {
     "data": {
      "text/plain": [
       "undefined"
      ]
     },
     "execution_count": 3,
     "metadata": {},
     "output_type": "execute_result"
    }
   ],
   "source": [
    "const stats = require(\"stats-analysis\");\n",
    "\n",
    "var arr = [98, 98.6, 98.4, 98.8, 200, 120, 98.5];\n",
    "\n",
    "//standard deviation \n",
    "var my_stddev = stats.stdev(arr).toFixed(2);\n",
    " \n",
    "//mean \n",
    "var my_mean = stats.mean(arr).toFixed(2);\n",
    " \n",
    "//median \n",
    "var my_median = stats.median(arr);\n",
    " \n",
    "//median absolute deviation \n",
    "var my_mad = stats.MAD(arr);\n",
    " \n",
    "// Get the index locations of the outliers in the data set \n",
    "var my_outliers = stats.indexOfOutliers(arr);\n",
    " \n",
    "// Remove the outliers \n",
    "var my_without_outliers = stats.filterOutliers(arr);\n",
    "\n",
    "//display our stats\n",
    "console.log(\"Raw data is \", arr);\n",
    "console.log(\"Standard Deviation is \", my_stddev);\n",
    "console.log(\"Mean is \", my_mean);\n",
    "console.log(\"Median is \", my_median);\n",
    "console.log(\"Median Abs Deviation is \" + my_mad);\n",
    "console.log(\"The outliers of the data set are \", my_outliers);\n",
    "console.log(\"The data set without outliers is \", my_without_outliers);"
   ]
  },
  {
   "cell_type": "code",
   "execution_count": 4,
   "metadata": {
    "collapsed": false
   },
   "outputs": [
    {
     "ename": "Error",
     "evalue": "Cannot find module 'fords.json'",
     "output_type": "error",
     "traceback": [
      "Error: Cannot find module 'fords.json'",
      "    at Function.Module._resolveFilename (module.js:469:15)",
      "    at Function.Module._load (module.js:417:25)",
      "    at Module.require (module.js:497:17)",
      "    at require (internal/module.js:20:19)",
      "    at evalmachine.<anonymous>:1:13",
      "    at ContextifyScript.Script.runInThisContext (vm.js:25:33)",
      "    at Object.exports.runInThisContext (vm.js:77:17)",
      "    at run ([eval]:613:19)",
      "    at onRunRequest ([eval]:384:22)",
      "    at onMessage ([eval]:352:17)"
     ]
    }
   ],
   "source": [
    "var fords = require('fords.json');\n",
    "\n",
    "//display how many Ford models are in our data set\n",
    "console.log(\"There are \" + fords.Models.length + \" Ford models in the data set\");\n",
    "\n",
    "//loop over the set\n",
    "var index = 1\n",
    "for(var i=0; i<fords.Models.length; i++) {\n",
    "    \n",
    "    //get this model\n",
    "    var model = fords.Models[i];\n",
    "    \n",
    "    //pull it's name\n",
    "    var name = model.model_name;\n",
    "    \n",
    "    //if the model name does not have numerics in it\n",
    "    if(! name.match(/[0-9]/i)) {\n",
    "        //display the model name\n",
    "        console.log(\"Model \" + index + \" is a \" + name);\n",
    "        index++;\n",
    "    }\n",
    "    \n",
    "    //only display the first 5\n",
    "    if (index>5) break;\n",
    "}\n"
   ]
  },
  {
   "cell_type": "code",
   "execution_count": 5,
   "metadata": {
    "collapsed": false
   },
   "outputs": [
    {
     "ename": "Error",
     "evalue": "Cannot find module 'canvas'",
     "output_type": "error",
     "traceback": [
      "Error: Cannot find module 'canvas'",
      "    at Function.Module._resolveFilename (module.js:469:15)",
      "    at Function.Module._load (module.js:417:25)",
      "    at Module.require (module.js:497:17)",
      "    at require (internal/module.js:20:19)",
      "    at evalmachine.<anonymous>:1:14",
      "    at ContextifyScript.Script.runInThisContext (vm.js:25:33)",
      "    at Object.exports.runInThisContext (vm.js:77:17)",
      "    at run ([eval]:613:19)",
      "    at onRunRequest ([eval]:384:22)",
      "    at onMessage ([eval]:352:17)"
     ]
    }
   ],
   "source": [
    "var Canvas = require('canvas')\n",
    "  , Image = Canvas.Image\n",
    "  , canvas = new Canvas(200, 200)\n",
    "  , ctx = canvas.getContext('2d')\n",
    "  , string = \"Jupyter!\";\n",
    "\n",
    "// place our string on the canvas\n",
    "ctx.font = '30px Impact';\n",
    "ctx.rotate(.1);\n",
    "ctx.fillText(string, 50, 100);\n",
    " \n",
    "var te = ctx.measureText(string);\n",
    "ctx.strokeStyle = 'rgba(0,0,0,0.5)';\n",
    "ctx.beginPath();\n",
    "ctx.lineTo(50, 102);\n",
    "ctx.lineTo(50 + te.width, 102);\n",
    "ctx.stroke();\n",
    " \n",
    "//create an html img tag, with embedded graphics\n",
    "console.log('<img src=\"' + canvas.toDataURL() + '\" />');\n"
   ]
  },
  {
   "cell_type": "code",
   "execution_count": 7,
   "metadata": {
    "collapsed": false
   },
   "outputs": [
    {
     "data": {
      "text/plain": [
       "undefined"
      ]
     },
     "execution_count": 7,
     "metadata": {},
     "output_type": "execute_result"
    },
    {
     "name": "stdout",
     "output_type": "stream",
     "text": [
      "{ streamstatus: undefined,\n",
      "  url: '',\n",
      "  message: 'Aw, snap! We don\\'t have an account for \\'<sonalis.packtpub@gmail.com>\\'. Want to try again? You can authenticate with your email address or username. Sign in is not case sensitive.\\n\\nDon\\'t have an account? plot.ly\\n\\nQuestions? support@plot.ly',\n",
      "  warning: '',\n",
      "  filename: '',\n",
      "  error: '' }\n"
     ]
    }
   ],
   "source": [
    "var seedrandom = require('seedrandom');\n",
    "var rng = seedrandom('Jupyter');\n",
    "//setup plotly\n",
    "var plotly = require('plotly')(username=\"<sonalis.packtpub@gmail.com>\", api_key=\"<WXx2uYj8QCc97Az8dT4j>\")\n",
    "var x = [];\n",
    "for (var i = 0; i < 500; i ++) {\n",
    "    x[i] = Math.random();\n",
    "}\n",
    "require('plotly')(username, api_key);\n",
    "var data = [\n",
    "  {\n",
    "    x: x,\n",
    "    type: \"histogram\"\n",
    "  }\n",
    "];\n",
    "var graphOptions = {filename: \"basic-histogram\", fileopt: \"overwrite\"};\n",
    "plotly.plot(data, graphOptions, function (err, msg) {\n",
    "    console.log(msg);\n",
    "});\n"
   ]
  },
  {
   "cell_type": "code",
   "execution_count": 8,
   "metadata": {
    "collapsed": false
   },
   "outputs": [
    {
     "name": "stdout",
     "output_type": "stream",
     "text": [
      "cube '0', and return 2 seconds later\n",
      "cube '1', and return 2 seconds later\n",
      "cube '1', and return 2 seconds later\n",
      "cube '2', and return 2 seconds later\n",
      "cube '3', and return 2 seconds later\n",
      "cube '5', and return 2 seconds later\n",
      "cube '7', and return 2 seconds later\n",
      "cube '11', and return 2 seconds later\n"
     ]
    },
    {
     "data": {
      "text/plain": [
       "undefined"
      ]
     },
     "execution_count": 8,
     "metadata": {},
     "output_type": "execute_result"
    },
    {
     "name": "stdout",
     "output_type": "stream",
     "text": [
      "Done [ 0, 3, 3, 6, 9, 15, 21, 33 ]\n"
     ]
    }
   ],
   "source": [
    "function async(arg, callback) {\n",
    "  console.log('cube \\''+arg+'\\', and return 2 seconds later');\n",
    "  setTimeout(function() { callback(arg * 3); }, 2000);\n",
    "}\n",
    "\n",
    "//function called once - after all threads complete\n",
    "function final() { console.log('Done', results); }\n",
    "\n",
    "//list of numbers to operate upon\n",
    "var items = [ 0, 1, 1, 2, 3, 5, 7, 11 ];\n",
    "\n",
    "//results of each step\n",
    "var results = [];\n",
    "\n",
    "//loop the drives the whole process\n",
    "items.forEach(function(item) {\n",
    "  async(item, function(result){\n",
    "    results.push(result);\n",
    "    if(results.length == items.length) {\n",
    "      final();\n",
    "    }\n",
    "  })\n",
    "});\n"
   ]
  },
  {
   "cell_type": "code",
   "execution_count": 11,
   "metadata": {
    "collapsed": false
   },
   "outputs": [
    {
     "data": {
      "text/plain": [
       "undefined"
      ]
     },
     "execution_count": 11,
     "metadata": {},
     "output_type": "execute_result"
    },
    {
     "name": "stderr",
     "output_type": "stream",
     "text": [
      "TypeError: d3.tsv.parse is not a function\n",
      "    at ReadFileContext.callback (evalmachine.<anonymous>:10:26)\n",
      "    at FSReqWrap.readFileAfterOpen [as oncomplete] (fs.js:365:13)"
     ]
    }
   ],
   "source": [
    "var DecisionTree = require('decision-tree');\n",
    "var fs = require(\"fs\");\n",
    "var d3 = require(\"d3\");\n",
    "var util = require('util');\n",
    "\n",
    "//read in the car/mpg file\n",
    "fs.readFile(\"car-mpg.tsv\", \"utf8\", function(error, data) {\n",
    "    \n",
    "    //parse out the csv into a dataset\n",
    "    var dataset = d3.tsv.parse(data);\n",
    "    \n",
    "    //display on screen - just for debugging\n",
    "    //console.log(JSON.stringify(dataset));\n",
    "\n",
    "    var rows = dataset.length;\n",
    "    console.log(\"rows = \" + rows);\n",
    "    var training_size = rows * 2 / 3;\n",
    "    console.log(\"training_size = \" + training_size);\n",
    "    var test_size = rows - training_size;\n",
    "    console.log(\"test_size = \" + test_size);\n",
    "\n",
    "    //Prepare training dataset\n",
    "    var training_data = dataset.slice(1, training_size);\n",
    "\n",
    "    //Prepare test dataset\n",
    "    var test_data = dataset.slice(training_size, rows);\n",
    "\n",
    "    //Setup Target Class used for prediction\n",
    "    var class_name = \"mpg\";\n",
    "\n",
    "    //Setup Features to be used by decision tree\n",
    "    var features = [\"cylinders\",\"displacement\",\"horsepower\", \"weight\", \"acceleration\", \"modelyear\", \"maker\"];\n",
    "\n",
    "    //Create decision tree and train model\n",
    "    var dt = new DecisionTree(training_data, class_name, features);\n",
    "    console.log(\"Decision Tree is \" + util.inspect(dt, {showHidden: false, depth: null}));\n",
    "\n",
    "    //Predict class label for an instance\n",
    "    var predicted_class = dt.predict({\n",
    "        cylinders: 8,\n",
    "        displacement: 400,\n",
    "        horsepower: 200,\n",
    "        weight: 4000,\n",
    "        acceleration: 12,\n",
    "        modelyear: 70,\n",
    "        maker: \"US\"\n",
    "    });\n",
    "    console.log(\"Predicted Class is \" + util.inspect(predicted_class, {showHidden: false, depth: null}));\n",
    "\n",
    "    //Evaluate model on a dataset\n",
    "    var accuracy = dt.evaluate(test_data);\n",
    "    console.log(\"Accuracy is \" + accuracy);\n",
    "\n",
    "    //Export underlying model for visualization or inspection\n",
    "    var treeModel = dt.toJSON();\n",
    "    console.log(\"Decision Tree JSON is \" + util.inspect(treeModel, {showHidden: false, depth: null}));\n",
    "});    \n"
   ]
  },
  {
   "cell_type": "code",
   "execution_count": null,
   "metadata": {
    "collapsed": true
   },
   "outputs": [],
   "source": []
  }
 ],
 "metadata": {
  "kernelspec": {
   "display_name": "Javascript (Node.js)",
   "language": "javascript",
   "name": "javascript"
  },
  "language_info": {
   "file_extension": ".js",
   "mimetype": "application/javascript",
   "name": "javascript",
   "version": "6.9.5"
  }
 },
 "nbformat": 4,
 "nbformat_minor": 2
}
